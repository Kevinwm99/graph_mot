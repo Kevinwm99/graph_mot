{
 "cells": [
  {
   "cell_type": "code",
   "execution_count": 1,
   "metadata": {},
   "outputs": [],
   "source": [
    "import torch\n",
    "import matplotlib.pyplot as plt \n",
    "import numpy as np \n",
    "import pandas as pd\n",
    "import os \n",
    "import glob "
   ]
  },
  {
   "cell_type": "code",
   "execution_count": 2,
   "metadata": {},
   "outputs": [
    {
     "ename": "ModuleNotFoundError",
     "evalue": "No module named 'pycocotools'",
     "output_type": "error",
     "traceback": [
      "\u001b[0;31m---------------------------------------------------------------------------\u001b[0m",
      "\u001b[0;31mModuleNotFoundError\u001b[0m                       Traceback (most recent call last)",
      "\u001b[0;32m<ipython-input-2-4c6c36d2f1a3>\u001b[0m in \u001b[0;36m<module>\u001b[0;34m\u001b[0m\n\u001b[0;32m----> 1\u001b[0;31m \u001b[0;32mimport\u001b[0m \u001b[0mpycocotools\u001b[0m\u001b[0;34m.\u001b[0m\u001b[0mmask\u001b[0m \u001b[0;32mas\u001b[0m \u001b[0mrletools\u001b[0m\u001b[0;34m\u001b[0m\u001b[0m\n\u001b[0m",
      "\u001b[0;31mModuleNotFoundError\u001b[0m: No module named 'pycocotools'"
     ]
    }
   ],
   "source": [
    "import pycocotools.mask as rletools"
   ]
  },
  {
   "cell_type": "code",
   "execution_count": 4,
   "metadata": {},
   "outputs": [],
   "source": [
    "root_img = '/home/kevinwm99/MOT/mot_neural_solver/data/MOT17Det/train/MOT17-02/img1/'"
   ]
  },
  {
   "cell_type": "code",
   "execution_count": 20,
   "metadata": {},
   "outputs": [],
   "source": [
    "root = '/home/kevinwm99/MOT/GCN/base/data/MOTS/train/MOTS20-02'"
   ]
  },
  {
   "cell_type": "code",
   "execution_count": 23,
   "metadata": {},
   "outputs": [
    {
     "data": {
      "text/plain": [
       "'img1'"
      ]
     },
     "execution_count": 23,
     "metadata": {},
     "output_type": "execute_result"
    }
   ],
   "source": [
    "os.listdir(root)[0]"
   ]
  },
  {
   "cell_type": "code",
   "execution_count": 24,
   "metadata": {},
   "outputs": [],
   "source": [
    "gt = os.path.join(root, sorted(os.listdir(root))[0])"
   ]
  },
  {
   "cell_type": "code",
   "execution_count": 29,
   "metadata": {},
   "outputs": [],
   "source": [
    "gt = '/home/kevinwm99/MOT/GCN/base/data/MOTS/train/MOTS20-02/gt/gt.txt'"
   ]
  },
  {
   "cell_type": "code",
   "execution_count": 31,
   "metadata": {},
   "outputs": [
    {
     "data": {
      "text/html": [
       "<div>\n",
       "<style scoped>\n",
       "    .dataframe tbody tr th:only-of-type {\n",
       "        vertical-align: middle;\n",
       "    }\n",
       "\n",
       "    .dataframe tbody tr th {\n",
       "        vertical-align: top;\n",
       "    }\n",
       "\n",
       "    .dataframe thead th {\n",
       "        text-align: right;\n",
       "    }\n",
       "</style>\n",
       "<table border=\"1\" class=\"dataframe\">\n",
       "  <thead>\n",
       "    <tr style=\"text-align: right;\">\n",
       "      <th></th>\n",
       "      <th>1 2002 2 1080 1920 UkU\\1`0RQ1&gt;PoN\\OVP1X1F=I3oSOTNlg0U2lWOVNng0m1nWOWNlg0n1PXOWNlg0l1SXOUNjg0P2RXORNfg0V2WXOoMbg0V2\\XOlM^g0Z2^XOkM_g0W2^XOlM]g0Y2`XOjM]g0Y2`XOkM[g0Y2aXOkM^g0V2`XOlM^g0T2aXOoM\\g0m1hXOVNWg0^1eVOeLU2o1Ug0P1`YORO^f0n0cYOTO[f0j0eYOYOZf0e0hYO\\OWf0=oYOEoe04XZONge00[ZO3be0K`WOnM@HY2a2ff0J]WOXNk1P2ff0J\\WOYNk1P2if0GXWO]Nm1n1jf0GTWObNm1j1nf0ERWOdNn1h1of0o0kXOUOUg0m0fXOVOYg0m0cXOUO]g0o0\\XOTObg0o0\\XOROdg0Q1WXOROgg0P1UXOSOjg0nNXWOBh0e0[OUNeh0c1YWOEd0c0CQN_h0h1ZWOEb0b0GPN[h0k1\\WOE=a00nMVh0l1[WOI&lt;=4nMTh0Y7oWOeHQh0f1]WO[3b0oJPh0g1aWOT3c0VKjg0f1eWOQ3b0YKhg0g1fWOn2e0ZKeg0h1dWOn2i0ZKcg0h1cWOo2k0XKag0j1cWOm2n0YK_g0j1bWOn2o0XK_g0j1bWOj2U1ZKWg0n1dWOf2W1\\KTg0o1eWOb2Z1_KQg0o1eWOa2[1`Kof0P2fWO]2^1cKkf0Q2gWO[2_1dKjf0P2hWOZ2`1fKff0R2jWOT2e1gKbf0V2iWOP2i1iK\\f0Z2jWOe1ni0PLYVOj6ai0h0O3O1O100N4N[K`VOT1]i0lNdVOV1Zi0iNgVOY1Wi0dNkVO_1Si0aNkVOd1Qi0\\NoVOh1nh0XNQWOk1mh0UNRWOm1mh0c3L1O2N3L5L1O2N2N1O4L1O4L10iHUXO`4jg0[K[XOf4dg0WK_XOk4`g0UJ]XOWO3T33A\\g0RNaXOVO0S3;CUg0RNaXOo2e0mNgf0TNdXOj2n0oN^f0UNeXOb2\\1VOne0WNgXOW1@nNP2d1ke0QNgXOW1JjNm1k1de0oMgXO[1J^NW2X2_e0cMdXOf1KVNZ2^2[f0\\OfZOa0Ye0]OkZOa0Se0@S[Ob0dd0^O`[Oa0]d0@k[O:Rd0Ho[O5Rd0Mo[O2oc0OP\\O1oc01Q\\ONQd03n[OMPd03Q\\OLoc06P\\OMlc03T\\OMmc02U\\OMjc03V\\OLlc05R\\OKPd03Q\\OKQd04o[OLWd00h[ONZd01h[OL^d0Oe[OM^d00c[OOad0O_[OOdd0N^[O0fd0MZ[O2jd0JZ[O2hd0MY[O1kd0LV[O2kd0MW[O1md0LS[O2od0MR[O2Qe0NmZO0Ue00jZONYe01iZOMZe03dZOK]e05dZOI_e07bZOF_e09bZOEbe09^ZOFbe0&lt;\\ZODfe0;YZOBme0&lt;RZODoe0&lt;PZOCUf0=gYOCZf0?cYOA`f0&gt;^YOAdf0?[YOAff0a0WYO]Olf0c0SYO]OPg0d0mXO[OTg0h0hXOWOZg0i0eXOWO_g0f0`XOYObg0f0`XOXOdg0d0\\XO\\Oeg0c0[XO\\Ogg0d0YXO[Ogg0e0ZXOXOjg0h0c4O2N2L4M7E^l`=</th>\n",
       "    </tr>\n",
       "  </thead>\n",
       "  <tbody>\n",
       "    <tr>\n",
       "      <th>0</th>\n",
       "      <td>1 2003 2 1080 1920 l_Yc0:=IXP1Q1YPOQO]n0V1[QOU...</td>\n",
       "    </tr>\n",
       "    <tr>\n",
       "      <th>1</th>\n",
       "      <td>1 2008 2 1080 1920 iTf^13bQ14M4L3N101O000010O2...</td>\n",
       "    </tr>\n",
       "    <tr>\n",
       "      <th>2</th>\n",
       "      <td>1 2014 2 1080 1920 dV^Y19ZQ15M3N2N2VoNA[P1f1XO...</td>\n",
       "    </tr>\n",
       "    <tr>\n",
       "      <th>3</th>\n",
       "      <td>1 2015 2 1080 1920 cm]Q1=XQ14K5L2J7M3K5MCfoNCW...</td>\n",
       "    </tr>\n",
       "    <tr>\n",
       "      <th>4</th>\n",
       "      <td>1 2017 2 1080 1920 eeYT14\\Q1;H7M2M3N2O1N2O0O3L...</td>\n",
       "    </tr>\n",
       "    <tr>\n",
       "      <th>...</th>\n",
       "      <td>...</td>\n",
       "    </tr>\n",
       "    <tr>\n",
       "      <th>7633</th>\n",
       "      <td>600 2038 2 1080 1920 bmhd0d0oP19K4K5K9I8G;F8_P...</td>\n",
       "    </tr>\n",
       "    <tr>\n",
       "      <th>7634</th>\n",
       "      <td>600 2043 2 1080 1920 cjme05`Q1&lt;F3M1M5H6L400ooN...</td>\n",
       "    </tr>\n",
       "    <tr>\n",
       "      <th>7635</th>\n",
       "      <td>600 2044 2 1080 1920 mUng02^Q1=F9G6M2N4L5M2M4M...</td>\n",
       "    </tr>\n",
       "    <tr>\n",
       "      <th>7636</th>\n",
       "      <td>600 2048 2 1080 1920 U[Wc05aQ1f0[O2NMWoNXOiP1`...</td>\n",
       "    </tr>\n",
       "    <tr>\n",
       "      <th>7637</th>\n",
       "      <td>600 10000 10 1080 1920 WgW&lt;X3`n000000000000000...</td>\n",
       "    </tr>\n",
       "  </tbody>\n",
       "</table>\n",
       "<p>7638 rows × 1 columns</p>\n",
       "</div>"
      ],
      "text/plain": [
       "     1 2002 2 1080 1920 UkU\\1`0RQ1>PoN\\OVP1X1F=I3oSOTNlg0U2lWOVNng0m1nWOWNlg0n1PXOWNlg0l1SXOUNjg0P2RXORNfg0V2WXOoMbg0V2\\XOlM^g0Z2^XOkM_g0W2^XOlM]g0Y2`XOjM]g0Y2`XOkM[g0Y2aXOkM^g0V2`XOlM^g0T2aXOoM\\g0m1hXOVNWg0^1eVOeLU2o1Ug0P1`YORO^f0n0cYOTO[f0j0eYOYOZf0e0hYO\\OWf0=oYOEoe04XZONge00[ZO3be0K`WOnM@HY2a2ff0J]WOXNk1P2ff0J\\WOYNk1P2if0GXWO]Nm1n1jf0GTWObNm1j1nf0ERWOdNn1h1of0o0kXOUOUg0m0fXOVOYg0m0cXOUO]g0o0\\XOTObg0o0\\XOROdg0Q1WXOROgg0P1UXOSOjg0nNXWOBh0e0[OUNeh0c1YWOEd0c0CQN_h0h1ZWOEb0b0GPN[h0k1\\WOE=a00nMVh0l1[WOI<=4nMTh0Y7oWOeHQh0f1]WO[3b0oJPh0g1aWOT3c0VKjg0f1eWOQ3b0YKhg0g1fWOn2e0ZKeg0h1dWOn2i0ZKcg0h1cWOo2k0XKag0j1cWOm2n0YK_g0j1bWOn2o0XK_g0j1bWOj2U1ZKWg0n1dWOf2W1\\KTg0o1eWOb2Z1_KQg0o1eWOa2[1`Kof0P2fWO]2^1cKkf0Q2gWO[2_1dKjf0P2hWOZ2`1fKff0R2jWOT2e1gKbf0V2iWOP2i1iK\\f0Z2jWOe1ni0PLYVOj6ai0h0O3O1O100N4N[K`VOT1]i0lNdVOV1Zi0iNgVOY1Wi0dNkVO_1Si0aNkVOd1Qi0\\NoVOh1nh0XNQWOk1mh0UNRWOm1mh0c3L1O2N3L5L1O2N2N1O4L1O4L10iHUXO`4jg0[K[XOf4dg0WK_XOk4`g0UJ]XOWO3T33A\\g0RNaXOVO0S3;CUg0RNaXOo2e0mNgf0TNdXOj2n0oN^f0UNeXOb2\\1VOne0WNgXOW1@nNP2d1ke0QNgXOW1JjNm1k1de0oMgXO[1J^NW2X2_e0cMdXOf1KVNZ2^2[f0\\OfZOa0Ye0]OkZOa0Se0@S[Ob0dd0^O`[Oa0]d0@k[O:Rd0Ho[O5Rd0Mo[O2oc0OP\\O1oc01Q\\ONQd03n[OMPd03Q\\OLoc06P\\OMlc03T\\OMmc02U\\OMjc03V\\OLlc05R\\OKPd03Q\\OKQd04o[OLWd00h[ONZd01h[OL^d0Oe[OM^d00c[OOad0O_[OOdd0N^[O0fd0MZ[O2jd0JZ[O2hd0MY[O1kd0LV[O2kd0MW[O1md0LS[O2od0MR[O2Qe0NmZO0Ue00jZONYe01iZOMZe03dZOK]e05dZOI_e07bZOF_e09bZOEbe09^ZOFbe0<\\ZODfe0;YZOBme0<RZODoe0<PZOCUf0=gYOCZf0?cYOA`f0>^YOAdf0?[YOAff0a0WYO]Olf0c0SYO]OPg0d0mXO[OTg0h0hXOWOZg0i0eXOWO_g0f0`XOYObg0f0`XOXOdg0d0\\XO\\Oeg0c0[XO\\Ogg0d0YXO[Ogg0e0ZXOXOjg0h0c4O2N2L4M7E^l`=\n",
       "0     1 2003 2 1080 1920 l_Yc0:=IXP1Q1YPOQO]n0V1[QOU...                                                                                                                                                                                                                                                                                                                                                                                                                                                                                                                                                                                                                                                                                                                                                                                                                                                                                                                                                                                                                                                                                                                                                                                                                                                                                                                                                                                                                                                                                                                                                                                      \n",
       "1     1 2008 2 1080 1920 iTf^13bQ14M4L3N101O000010O2...                                                                                                                                                                                                                                                                                                                                                                                                                                                                                                                                                                                                                                                                                                                                                                                                                                                                                                                                                                                                                                                                                                                                                                                                                                                                                                                                                                                                                                                                                                                                                                                      \n",
       "2     1 2014 2 1080 1920 dV^Y19ZQ15M3N2N2VoNA[P1f1XO...                                                                                                                                                                                                                                                                                                                                                                                                                                                                                                                                                                                                                                                                                                                                                                                                                                                                                                                                                                                                                                                                                                                                                                                                                                                                                                                                                                                                                                                                                                                                                                                      \n",
       "3     1 2015 2 1080 1920 cm]Q1=XQ14K5L2J7M3K5MCfoNCW...                                                                                                                                                                                                                                                                                                                                                                                                                                                                                                                                                                                                                                                                                                                                                                                                                                                                                                                                                                                                                                                                                                                                                                                                                                                                                                                                                                                                                                                                                                                                                                                      \n",
       "4     1 2017 2 1080 1920 eeYT14\\Q1;H7M2M3N2O1N2O0O3L...                                                                                                                                                                                                                                                                                                                                                                                                                                                                                                                                                                                                                                                                                                                                                                                                                                                                                                                                                                                                                                                                                                                                                                                                                                                                                                                                                                                                                                                                                                                                                                                      \n",
       "...                                                 ...                                                                                                                                                                                                                                                                                                                                                                                                                                                                                                                                                                                                                                                                                                                                                                                                                                                                                                                                                                                                                                                                                                                                                                                                                                                                                                                                                                                                                                                                                                                                                                                      \n",
       "7633  600 2038 2 1080 1920 bmhd0d0oP19K4K5K9I8G;F8_P...                                                                                                                                                                                                                                                                                                                                                                                                                                                                                                                                                                                                                                                                                                                                                                                                                                                                                                                                                                                                                                                                                                                                                                                                                                                                                                                                                                                                                                                                                                                                                                                      \n",
       "7634  600 2043 2 1080 1920 cjme05`Q1<F3M1M5H6L400ooN...                                                                                                                                                                                                                                                                                                                                                                                                                                                                                                                                                                                                                                                                                                                                                                                                                                                                                                                                                                                                                                                                                                                                                                                                                                                                                                                                                                                                                                                                                                                                                                                      \n",
       "7635  600 2044 2 1080 1920 mUng02^Q1=F9G6M2N4L5M2M4M...                                                                                                                                                                                                                                                                                                                                                                                                                                                                                                                                                                                                                                                                                                                                                                                                                                                                                                                                                                                                                                                                                                                                                                                                                                                                                                                                                                                                                                                                                                                                                                                      \n",
       "7636  600 2048 2 1080 1920 U[Wc05aQ1f0[O2NMWoNXOiP1`...                                                                                                                                                                                                                                                                                                                                                                                                                                                                                                                                                                                                                                                                                                                                                                                                                                                                                                                                                                                                                                                                                                                                                                                                                                                                                                                                                                                                                                                                                                                                                                                      \n",
       "7637  600 10000 10 1080 1920 WgW<X3`n000000000000000...                                                                                                                                                                                                                                                                                                                                                                                                                                                                                                                                                                                                                                                                                                                                                                                                                                                                                                                                                                                                                                                                                                                                                                                                                                                                                                                                                                                                                                                                                                                                                                                      \n",
       "\n",
       "[7638 rows x 1 columns]"
      ]
     },
     "execution_count": 31,
     "metadata": {},
     "output_type": "execute_result"
    }
   ],
   "source": [
    "pd.read_csv(gt)"
   ]
  }
 ],
 "metadata": {
  "kernelspec": {
   "display_name": "Python 3",
   "language": "python",
   "name": "python3"
  },
  "language_info": {
   "codemirror_mode": {
    "name": "ipython",
    "version": 3
   },
   "file_extension": ".py",
   "mimetype": "text/x-python",
   "name": "python",
   "nbconvert_exporter": "python",
   "pygments_lexer": "ipython3",
   "version": "3.7.0"
  }
 },
 "nbformat": 4,
 "nbformat_minor": 4
}
