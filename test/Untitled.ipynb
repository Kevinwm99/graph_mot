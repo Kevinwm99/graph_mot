{
 "cells": [
  {
   "cell_type": "code",
   "execution_count": 11,
   "metadata": {},
   "outputs": [],
   "source": [
    "import numpy as np\n",
    "import torch\n",
    "import random\n",
    "from torch.utils.data.sampler import Sampler"
   ]
  },
  {
   "cell_type": "code",
   "execution_count": null,
   "metadata": {},
   "outputs": [],
   "source": []
  },
  {
   "cell_type": "code",
   "execution_count": null,
   "metadata": {},
   "outputs": [],
   "source": []
  },
  {
   "cell_type": "code",
   "execution_count": null,
   "metadata": {},
   "outputs": [],
   "source": []
  },
  {
   "cell_type": "code",
   "execution_count": 9,
   "metadata": {},
   "outputs": [],
   "source": [
    "seed = 1\n",
    "points = []\n",
    "for n in range(100):\n",
    "        \n",
    "    points.append(np.random.randint(1,100))"
   ]
  },
  {
   "cell_type": "code",
   "execution_count": 10,
   "metadata": {},
   "outputs": [
    {
     "data": {
      "text/plain": [
       "[59,\n",
       " 27,\n",
       " 90,\n",
       " 5,\n",
       " 3,\n",
       " 32,\n",
       " 94,\n",
       " 52,\n",
       " 25,\n",
       " 52,\n",
       " 33,\n",
       " 73,\n",
       " 30,\n",
       " 28,\n",
       " 3,\n",
       " 89,\n",
       " 45,\n",
       " 75,\n",
       " 18,\n",
       " 75,\n",
       " 89,\n",
       " 45,\n",
       " 15,\n",
       " 25,\n",
       " 46,\n",
       " 90,\n",
       " 46,\n",
       " 2,\n",
       " 85,\n",
       " 12,\n",
       " 49,\n",
       " 94,\n",
       " 4,\n",
       " 78,\n",
       " 3,\n",
       " 69,\n",
       " 51,\n",
       " 25,\n",
       " 81,\n",
       " 36,\n",
       " 8,\n",
       " 51,\n",
       " 3,\n",
       " 82,\n",
       " 35,\n",
       " 35,\n",
       " 88,\n",
       " 85,\n",
       " 58,\n",
       " 37,\n",
       " 32,\n",
       " 46,\n",
       " 75,\n",
       " 69,\n",
       " 50,\n",
       " 3,\n",
       " 67,\n",
       " 37,\n",
       " 30,\n",
       " 72,\n",
       " 73,\n",
       " 13,\n",
       " 28,\n",
       " 79,\n",
       " 26,\n",
       " 97,\n",
       " 16,\n",
       " 86,\n",
       " 52,\n",
       " 33,\n",
       " 8,\n",
       " 54,\n",
       " 88,\n",
       " 52,\n",
       " 98,\n",
       " 29,\n",
       " 34,\n",
       " 60,\n",
       " 66,\n",
       " 23,\n",
       " 18,\n",
       " 87,\n",
       " 72,\n",
       " 41,\n",
       " 6,\n",
       " 90,\n",
       " 81,\n",
       " 11,\n",
       " 62,\n",
       " 28,\n",
       " 71,\n",
       " 79,\n",
       " 52,\n",
       " 88,\n",
       " 82,\n",
       " 42,\n",
       " 2,\n",
       " 3,\n",
       " 81,\n",
       " 85]"
      ]
     },
     "execution_count": 10,
     "metadata": {},
     "output_type": "execute_result"
    }
   ],
   "source": [
    "points"
   ]
  },
  {
   "cell_type": "code",
   "execution_count": 8,
   "metadata": {},
   "outputs": [
    {
     "data": {
      "text/plain": [
       "4"
      ]
     },
     "execution_count": 8,
     "metadata": {},
     "output_type": "execute_result"
    }
   ],
   "source": [
    "n"
   ]
  }
 ],
 "metadata": {
  "kernelspec": {
   "display_name": "Python 3",
   "language": "python",
   "name": "python3"
  },
  "language_info": {
   "codemirror_mode": {
    "name": "ipython",
    "version": 3
   },
   "file_extension": ".py",
   "mimetype": "text/x-python",
   "name": "python",
   "nbconvert_exporter": "python",
   "pygments_lexer": "ipython3",
   "version": "3.7.0"
  }
 },
 "nbformat": 4,
 "nbformat_minor": 4
}
